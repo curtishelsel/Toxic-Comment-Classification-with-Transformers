{
  "nbformat": 4,
  "nbformat_minor": 0,
  "metadata": {
    "colab": {
      "name": "nlp_toxic.ipynb",
      "provenance": []
    },
    "kernelspec": {
      "name": "python3",
      "display_name": "Python 3"
    },
    "language_info": {
      "name": "python"
    }
  },
  "cells": [
    {
      "cell_type": "code",
      "execution_count": 50,
      "metadata": {
        "id": "itEhgpBOdt6U"
      },
      "outputs": [],
      "source": [
        "import pandas as pd\n",
        "import matplotlib.pyplot as plt\n",
        "from sklearn.model_selection import train_test_split"
      ]
    },
    {
      "cell_type": "code",
      "source": [
        "df = pd.read_csv('train.csv')"
      ],
      "metadata": {
        "id": "Lt0mvkRFd5_D"
      },
      "execution_count": 20,
      "outputs": []
    },
    {
      "cell_type": "code",
      "source": [
        "print(df.head())"
      ],
      "metadata": {
        "colab": {
          "base_uri": "https://localhost:8080/"
        },
        "id": "aciKS7sNd8DO",
        "outputId": "ab25df73-b267-49a1-92a7-866cc9756da0"
      },
      "execution_count": 21,
      "outputs": [
        {
          "output_type": "stream",
          "name": "stdout",
          "text": [
            "      id    target                                       comment_text  \\\n",
            "0  59848  0.000000  This is so cool. It's like, 'would you want yo...   \n",
            "1  59849  0.000000  Thank you!! This would make my life a lot less...   \n",
            "2  59852  0.000000  This is such an urgent design problem; kudos t...   \n",
            "3  59855  0.000000  Is this something I'll be able to install on m...   \n",
            "4  59856  0.893617               haha you guys are a bunch of losers.   \n",
            "\n",
            "   severe_toxicity  obscene  identity_attack   insult  threat  asian  atheist  \\\n",
            "0         0.000000      0.0         0.000000  0.00000     0.0    NaN      NaN   \n",
            "1         0.000000      0.0         0.000000  0.00000     0.0    NaN      NaN   \n",
            "2         0.000000      0.0         0.000000  0.00000     0.0    NaN      NaN   \n",
            "3         0.000000      0.0         0.000000  0.00000     0.0    NaN      NaN   \n",
            "4         0.021277      0.0         0.021277  0.87234     0.0    0.0      0.0   \n",
            "\n",
            "   ...  article_id    rating  funny  wow  sad  likes  disagree  \\\n",
            "0  ...        2006  rejected      0    0    0      0         0   \n",
            "1  ...        2006  rejected      0    0    0      0         0   \n",
            "2  ...        2006  rejected      0    0    0      0         0   \n",
            "3  ...        2006  rejected      0    0    0      0         0   \n",
            "4  ...        2006  rejected      0    0    0      1         0   \n",
            "\n",
            "   sexual_explicit  identity_annotator_count  toxicity_annotator_count  \n",
            "0              0.0                         0                         4  \n",
            "1              0.0                         0                         4  \n",
            "2              0.0                         0                         4  \n",
            "3              0.0                         0                         4  \n",
            "4              0.0                         4                        47  \n",
            "\n",
            "[5 rows x 45 columns]\n"
          ]
        }
      ]
    },
    {
      "cell_type": "code",
      "source": [
        "print(df.columns.tolist())"
      ],
      "metadata": {
        "colab": {
          "base_uri": "https://localhost:8080/"
        },
        "id": "XNEoPreZd7ET",
        "outputId": "31dc3ed8-4959-4f3c-ecae-ed8bd9a2aa59"
      },
      "execution_count": 22,
      "outputs": [
        {
          "output_type": "stream",
          "name": "stdout",
          "text": [
            "['id', 'target', 'comment_text', 'severe_toxicity', 'obscene', 'identity_attack', 'insult', 'threat', 'asian', 'atheist', 'bisexual', 'black', 'buddhist', 'christian', 'female', 'heterosexual', 'hindu', 'homosexual_gay_or_lesbian', 'intellectual_or_learning_disability', 'jewish', 'latino', 'male', 'muslim', 'other_disability', 'other_gender', 'other_race_or_ethnicity', 'other_religion', 'other_sexual_orientation', 'physical_disability', 'psychiatric_or_mental_illness', 'transgender', 'white', 'created_date', 'publication_id', 'parent_id', 'article_id', 'rating', 'funny', 'wow', 'sad', 'likes', 'disagree', 'sexual_explicit', 'identity_annotator_count', 'toxicity_annotator_count']\n"
          ]
        }
      ]
    },
    {
      "cell_type": "code",
      "source": [
        "filtered_df = df[['comment_text', 'target']]"
      ],
      "metadata": {
        "id": "9-yx5t1WkSrH"
      },
      "execution_count": 29,
      "outputs": []
    },
    {
      "cell_type": "code",
      "source": [
        "filtered_df = filtered_df[(filtered_df['target'] == 0) | (filtered_df['target'] >= 0.5)]"
      ],
      "metadata": {
        "id": "ac1_lN8akYoZ"
      },
      "execution_count": 30,
      "outputs": []
    },
    {
      "cell_type": "code",
      "source": [
        "filtered_df[filtered_df[\"target\"] >= .5] = 1"
      ],
      "metadata": {
        "id": "o3m7AEH8k-JM"
      },
      "execution_count": 31,
      "outputs": []
    },
    {
      "cell_type": "code",
      "source": [
        "filtered_df_class_count = filtered_df[\"target\"].value_counts()"
      ],
      "metadata": {
        "id": "ec36_NATkujF"
      },
      "execution_count": 33,
      "outputs": []
    },
    {
      "cell_type": "code",
      "source": [
        "print(filtered_df_class_count / sum(filtered_df_class_count))"
      ],
      "metadata": {
        "colab": {
          "base_uri": "https://localhost:8080/"
        },
        "id": "KoILpM1Zl1AP",
        "outputId": "7984eed2-8c27-4ea0-b697-c78640101514"
      },
      "execution_count": 66,
      "outputs": [
        {
          "output_type": "stream",
          "name": "stdout",
          "text": [
            "0.0    0.89757\n",
            "1.0    0.10243\n",
            "Name: target, dtype: float64\n"
          ]
        }
      ]
    },
    {
      "cell_type": "code",
      "source": [
        "X = filtered_df[['comment_text']]\n",
        "print(x.head())"
      ],
      "metadata": {
        "colab": {
          "base_uri": "https://localhost:8080/"
        },
        "id": "doYYpTcRmoQo",
        "outputId": "9537538c-9cc7-487d-d188-899228f1c734"
      },
      "execution_count": 67,
      "outputs": [
        {
          "output_type": "stream",
          "name": "stdout",
          "text": [
            "                                        comment_text\n",
            "0  This is so cool. It's like, 'would you want yo...\n",
            "1  Thank you!! This would make my life a lot less...\n",
            "2  This is such an urgent design problem; kudos t...\n",
            "3  Is this something I'll be able to install on m...\n",
            "4                                                  1\n"
          ]
        }
      ]
    },
    {
      "cell_type": "code",
      "source": [
        "y = filtered_df[['target']]\n",
        "print(y.head())"
      ],
      "metadata": {
        "colab": {
          "base_uri": "https://localhost:8080/"
        },
        "id": "ndr4UXrYnuhN",
        "outputId": "f2638caf-89dd-4580-b06b-28f5ff9690e0"
      },
      "execution_count": 68,
      "outputs": [
        {
          "output_type": "stream",
          "name": "stdout",
          "text": [
            "   target\n",
            "0     0.0\n",
            "1     0.0\n",
            "2     0.0\n",
            "3     0.0\n",
            "4     1.0\n"
          ]
        }
      ]
    },
    {
      "cell_type": "code",
      "source": [
        "X_train, X_test, y_train, y_test = train_test_split(X, y, test_size=0.20, random_state=42)"
      ],
      "metadata": {
        "id": "tNNfz5USoFit"
      },
      "execution_count": 69,
      "outputs": []
    },
    {
      "cell_type": "code",
      "source": [
        "train_count = y_train.value_counts()\n",
        "test_count = y_test.value_counts()\n",
        "print(train_count / sum(train_count))\n",
        "print(test_count / sum(test_count))"
      ],
      "metadata": {
        "colab": {
          "base_uri": "https://localhost:8080/"
        },
        "id": "LLYylZkioQ6D",
        "outputId": "d6fe8ec7-11f2-4377-eebe-3affec4ff32a"
      },
      "execution_count": 73,
      "outputs": [
        {
          "output_type": "stream",
          "name": "stdout",
          "text": [
            "target\n",
            "0.0       0.897618\n",
            "1.0       0.102382\n",
            "dtype: float64\n",
            "target\n",
            "0.0       0.897378\n",
            "1.0       0.102622\n",
            "dtype: float64\n"
          ]
        }
      ]
    },
    {
      "cell_type": "code",
      "source": [
        "train_df = pd.merge(X_train,y_train,left_index=True,right_index=True)\n",
        "print(train_df)"
      ],
      "metadata": {
        "colab": {
          "base_uri": "https://localhost:8080/"
        },
        "id": "2iU8pWhnpxFp",
        "outputId": "68481d5d-5301-4863-9b7a-862ffdc6df71"
      },
      "execution_count": 76,
      "outputs": [
        {
          "output_type": "stream",
          "name": "stdout",
          "text": [
            "                                              comment_text  target\n",
            "1082526  The biggest winner so far is  Canada's Nationa...     0.0\n",
            "509740   That is true, but it also depends on how you i...     0.0\n",
            "1024647  I'm not sure how you could spin this to find s...     0.0\n",
            "887667   \"this President has enacted more legislation a...     0.0\n",
            "565579   Relax, the ban is TEMPORARY for 90 days only\\n...     0.0\n",
            "...                                                    ...     ...\n",
            "138097   As has been pointed out many times by people f...     0.0\n",
            "329105   \"So, adhering to the mantra that you are who y...     0.0\n",
            "165711   Yeah, people move to Oregon all right...about ...     0.0\n",
            "856650   Richard, if its the \"best kept secret\" how cou...     0.0\n",
            "153070   Since Hynix' maintenance is not paid for by La...     0.0\n",
            "\n",
            "[1127278 rows x 2 columns]\n"
          ]
        }
      ]
    },
    {
      "cell_type": "code",
      "source": [
        "test_df = pd.merge(X_test,y_test,left_index=True,right_index=True)\n",
        "print(test_df)"
      ],
      "metadata": {
        "colab": {
          "base_uri": "https://localhost:8080/"
        },
        "id": "pNO_-l-XsQQ-",
        "outputId": "33bf2805-d5b0-4ded-e0ac-254821b24731"
      },
      "execution_count": 79,
      "outputs": [
        {
          "output_type": "stream",
          "name": "stdout",
          "text": [
            "                                              comment_text  target\n",
            "658847   Here's the latest numbers from the 2016 Presid...     0.0\n",
            "476462   I had a conversation with Wally in 1967 about ...     0.0\n",
            "888134   If you are arguing for Parliamentary Privilege...     0.0\n",
            "1225856  Keeping cargo in the line up is kind of like h...     0.0\n",
            "151020              \"Drop the check and back away slowly!\"     0.0\n",
            "...                                                    ...     ...\n",
            "500435   I'd love to see Bautista have a great year, if...     0.0\n",
            "276388                       It ain’t over till it’s over.     0.0\n",
            "1237137  More like not incur more debt with little in t...     0.0\n",
            "1293274  That is all that you could find? An obtuse fal...     0.0\n",
            "1724683  I wouldn't be surprised if there are firefight...     0.0\n",
            "\n",
            "[281820 rows x 2 columns]\n"
          ]
        }
      ]
    },
    {
      "cell_type": "code",
      "source": [
        "train_count"
      ],
      "metadata": {
        "colab": {
          "base_uri": "https://localhost:8080/"
        },
        "id": "JGAisvDABRJc",
        "outputId": "aa890b2d-ce4c-495f-a7cf-63fbe64d02ec"
      },
      "execution_count": 86,
      "outputs": [
        {
          "output_type": "execute_result",
          "data": {
            "text/plain": [
              "target\n",
              "0.0       1011865\n",
              "1.0        115413\n",
              "dtype: int64"
            ]
          },
          "metadata": {},
          "execution_count": 86
        }
      ]
    },
    {
      "cell_type": "code",
      "source": [
        "balanced_train_df = train_df.groupby(\"target\").sample(n=train_count[1], random_state=12) # take even split"
      ],
      "metadata": {
        "id": "ZzQfaeux4t1f"
      },
      "execution_count": 94,
      "outputs": []
    },
    {
      "cell_type": "code",
      "source": [
        "balanced_train_df = balanced_train_df.sample(frac=1) # shuffle"
      ],
      "metadata": {
        "id": "RSGX7E_6CAtg"
      },
      "execution_count": 95,
      "outputs": []
    },
    {
      "cell_type": "code",
      "source": [
        "balanced_train_df[\"target\"].value_counts() # count number in training split"
      ],
      "metadata": {
        "colab": {
          "base_uri": "https://localhost:8080/"
        },
        "id": "C5z3jL8rBbt0",
        "outputId": "a432a0f4-8c0a-4328-e30e-9b59fdd0e115"
      },
      "execution_count": 93,
      "outputs": [
        {
          "output_type": "execute_result",
          "data": {
            "text/plain": [
              "0.0    115413\n",
              "1.0    115413\n",
              "Name: target, dtype: int64"
            ]
          },
          "metadata": {},
          "execution_count": 93
        }
      ]
    },
    {
      "cell_type": "code",
      "source": [
        "balanced_train_df.to_csv(\"processed_train.csv\",index=False)  "
      ],
      "metadata": {
        "id": "WhKdf1HjBs0L"
      },
      "execution_count": 98,
      "outputs": []
    },
    {
      "cell_type": "code",
      "source": [
        "test_df.to_csv(\"processed_test.csv\",index=False)  "
      ],
      "metadata": {
        "id": "KLlmFTHXC781"
      },
      "execution_count": 99,
      "outputs": []
    }
  ]
}