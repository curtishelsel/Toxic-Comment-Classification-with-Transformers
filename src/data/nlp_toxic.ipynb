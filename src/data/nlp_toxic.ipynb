{
  "nbformat": 4,
  "nbformat_minor": 0,
  "metadata": {
    "colab": {
      "name": "nlp_toxic.ipynb",
      "provenance": []
    },
    "kernelspec": {
      "name": "python3",
      "display_name": "Python 3"
    },
    "language_info": {
      "name": "python"
    }
  },
  "cells": [
    {
      "cell_type": "code",
      "execution_count": 1,
      "metadata": {
        "id": "itEhgpBOdt6U"
      },
      "outputs": [],
      "source": [
        "import pandas as pd\n",
        "import matplotlib.pyplot as plt\n",
        "from sklearn.model_selection import train_test_split"
      ]
    },
    {
      "cell_type": "code",
      "source": [
        "df = pd.read_csv('train.csv')"
      ],
      "metadata": {
        "id": "Lt0mvkRFd5_D"
      },
      "execution_count": 2,
      "outputs": []
    },
    {
      "cell_type": "code",
      "source": [
        "print(df.head())"
      ],
      "metadata": {
        "colab": {
          "base_uri": "https://localhost:8080/"
        },
        "id": "aciKS7sNd8DO",
        "outputId": "160ff81d-81e0-45de-e903-c0a2dea6deb0"
      },
      "execution_count": 76,
      "outputs": [
        {
          "output_type": "stream",
          "name": "stdout",
          "text": [
            "      id    target                                       comment_text  \\\n",
            "0  59848  0.000000  This is so cool. It's like, 'would you want yo...   \n",
            "1  59849  0.000000  Thank you!! This would make my life a lot less...   \n",
            "2  59852  0.000000  This is such an urgent design problem; kudos t...   \n",
            "3  59855  0.000000  Is this something I'll be able to install on m...   \n",
            "4  59856  0.893617               haha you guys are a bunch of losers.   \n",
            "\n",
            "   severe_toxicity  obscene  identity_attack   insult  threat  asian  atheist  \\\n",
            "0         0.000000      0.0         0.000000  0.00000     0.0    NaN      NaN   \n",
            "1         0.000000      0.0         0.000000  0.00000     0.0    NaN      NaN   \n",
            "2         0.000000      0.0         0.000000  0.00000     0.0    NaN      NaN   \n",
            "3         0.000000      0.0         0.000000  0.00000     0.0    NaN      NaN   \n",
            "4         0.021277      0.0         0.021277  0.87234     0.0    0.0      0.0   \n",
            "\n",
            "   ...  article_id    rating  funny  wow  sad  likes  disagree  \\\n",
            "0  ...        2006  rejected      0    0    0      0         0   \n",
            "1  ...        2006  rejected      0    0    0      0         0   \n",
            "2  ...        2006  rejected      0    0    0      0         0   \n",
            "3  ...        2006  rejected      0    0    0      0         0   \n",
            "4  ...        2006  rejected      0    0    0      1         0   \n",
            "\n",
            "   sexual_explicit  identity_annotator_count  toxicity_annotator_count  \n",
            "0              0.0                         0                         4  \n",
            "1              0.0                         0                         4  \n",
            "2              0.0                         0                         4  \n",
            "3              0.0                         0                         4  \n",
            "4              0.0                         4                        47  \n",
            "\n",
            "[5 rows x 45 columns]\n"
          ]
        }
      ]
    },
    {
      "cell_type": "code",
      "source": [
        "print(df.columns.tolist())"
      ],
      "metadata": {
        "colab": {
          "base_uri": "https://localhost:8080/"
        },
        "id": "XNEoPreZd7ET",
        "outputId": "3e7718f5-9246-4287-ecbd-9ee393fc0923"
      },
      "execution_count": 77,
      "outputs": [
        {
          "output_type": "stream",
          "name": "stdout",
          "text": [
            "['id', 'target', 'comment_text', 'severe_toxicity', 'obscene', 'identity_attack', 'insult', 'threat', 'asian', 'atheist', 'bisexual', 'black', 'buddhist', 'christian', 'female', 'heterosexual', 'hindu', 'homosexual_gay_or_lesbian', 'intellectual_or_learning_disability', 'jewish', 'latino', 'male', 'muslim', 'other_disability', 'other_gender', 'other_race_or_ethnicity', 'other_religion', 'other_sexual_orientation', 'physical_disability', 'psychiatric_or_mental_illness', 'transgender', 'white', 'created_date', 'publication_id', 'parent_id', 'article_id', 'rating', 'funny', 'wow', 'sad', 'likes', 'disagree', 'sexual_explicit', 'identity_annotator_count', 'toxicity_annotator_count']\n"
          ]
        }
      ]
    },
    {
      "cell_type": "code",
      "source": [
        "filtered_df = df[['comment_text', 'target']]"
      ],
      "metadata": {
        "id": "9-yx5t1WkSrH"
      },
      "execution_count": 78,
      "outputs": []
    },
    {
      "cell_type": "code",
      "source": [
        "filtered_df = filtered_df[(filtered_df['target'] == 0) | (filtered_df['target'] >= 0.5)]"
      ],
      "metadata": {
        "id": "ac1_lN8akYoZ"
      },
      "execution_count": 79,
      "outputs": []
    },
    {
      "cell_type": "code",
      "source": [
        "filtered_df['target'] = filtered_df['target'].apply(lambda x: 1 if x >= 0.5 else 0)"
      ],
      "metadata": {
        "id": "o3m7AEH8k-JM"
      },
      "execution_count": 80,
      "outputs": []
    },
    {
      "cell_type": "code",
      "source": [
        "filtered_df_class_count = filtered_df[\"target\"].value_counts()"
      ],
      "metadata": {
        "id": "ec36_NATkujF"
      },
      "execution_count": 81,
      "outputs": []
    },
    {
      "cell_type": "code",
      "source": [
        "print(filtered_df_class_count / sum(filtered_df_class_count))"
      ],
      "metadata": {
        "colab": {
          "base_uri": "https://localhost:8080/"
        },
        "id": "KoILpM1Zl1AP",
        "outputId": "02a6d3d8-af62-4aa2-924f-bef89224c748"
      },
      "execution_count": 82,
      "outputs": [
        {
          "output_type": "stream",
          "name": "stdout",
          "text": [
            "0    0.89757\n",
            "1    0.10243\n",
            "Name: target, dtype: float64\n"
          ]
        }
      ]
    },
    {
      "cell_type": "code",
      "source": [
        "X = filtered_df[['comment_text']]\n",
        "print(X.head())"
      ],
      "metadata": {
        "colab": {
          "base_uri": "https://localhost:8080/"
        },
        "id": "doYYpTcRmoQo",
        "outputId": "9044b9a5-a3b6-4399-8313-a6cc887f38d1"
      },
      "execution_count": 83,
      "outputs": [
        {
          "output_type": "stream",
          "name": "stdout",
          "text": [
            "                                        comment_text\n",
            "0  This is so cool. It's like, 'would you want yo...\n",
            "1  Thank you!! This would make my life a lot less...\n",
            "2  This is such an urgent design problem; kudos t...\n",
            "3  Is this something I'll be able to install on m...\n",
            "4               haha you guys are a bunch of losers.\n"
          ]
        }
      ]
    },
    {
      "cell_type": "code",
      "source": [
        "y = filtered_df[['target']]\n",
        "print(y.head())"
      ],
      "metadata": {
        "colab": {
          "base_uri": "https://localhost:8080/"
        },
        "id": "ndr4UXrYnuhN",
        "outputId": "39ab11d1-79d9-4695-8274-9be14320417d"
      },
      "execution_count": 84,
      "outputs": [
        {
          "output_type": "stream",
          "name": "stdout",
          "text": [
            "   target\n",
            "0       0\n",
            "1       0\n",
            "2       0\n",
            "3       0\n",
            "4       1\n"
          ]
        }
      ]
    },
    {
      "cell_type": "code",
      "source": [
        "X_train, X_test, y_train, y_test = train_test_split(X, y, test_size=0.20, random_state=42)"
      ],
      "metadata": {
        "id": "tNNfz5USoFit"
      },
      "execution_count": 85,
      "outputs": []
    },
    {
      "cell_type": "code",
      "source": [
        "train_count = y_train.value_counts()\n",
        "test_count = y_test.value_counts()\n",
        "print(train_count / sum(train_count))\n",
        "print(test_count / sum(test_count))"
      ],
      "metadata": {
        "colab": {
          "base_uri": "https://localhost:8080/"
        },
        "id": "LLYylZkioQ6D",
        "outputId": "435542c3-47a3-4f51-ee2b-e76837795a03"
      },
      "execution_count": 86,
      "outputs": [
        {
          "output_type": "stream",
          "name": "stdout",
          "text": [
            "target\n",
            "0         0.897618\n",
            "1         0.102382\n",
            "dtype: float64\n",
            "target\n",
            "0         0.897378\n",
            "1         0.102622\n",
            "dtype: float64\n"
          ]
        }
      ]
    },
    {
      "cell_type": "code",
      "source": [
        "train_df = pd.merge(X_train,y_train,left_index=True,right_index=True)\n",
        "print(train_df)"
      ],
      "metadata": {
        "colab": {
          "base_uri": "https://localhost:8080/"
        },
        "id": "2iU8pWhnpxFp",
        "outputId": "6d5f01df-4087-4318-8f72-9815cbde3704"
      },
      "execution_count": 87,
      "outputs": [
        {
          "output_type": "stream",
          "name": "stdout",
          "text": [
            "                                              comment_text  target\n",
            "1082526  The biggest winner so far is  Canada's Nationa...       0\n",
            "509740   That is true, but it also depends on how you i...       0\n",
            "1024647  I'm not sure how you could spin this to find s...       0\n",
            "887667   \"this President has enacted more legislation a...       0\n",
            "565579   Relax, the ban is TEMPORARY for 90 days only\\n...       0\n",
            "...                                                    ...     ...\n",
            "138097   As has been pointed out many times by people f...       0\n",
            "329105   \"So, adhering to the mantra that you are who y...       0\n",
            "165711   Yeah, people move to Oregon all right...about ...       0\n",
            "856650   Richard, if its the \"best kept secret\" how cou...       0\n",
            "153070   Since Hynix' maintenance is not paid for by La...       0\n",
            "\n",
            "[1127278 rows x 2 columns]\n"
          ]
        }
      ]
    },
    {
      "cell_type": "code",
      "source": [
        "test_df = pd.merge(X_test,y_test,left_index=True,right_index=True)\n",
        "print(test_df)"
      ],
      "metadata": {
        "colab": {
          "base_uri": "https://localhost:8080/"
        },
        "id": "pNO_-l-XsQQ-",
        "outputId": "1fea6d4a-ea8b-4e34-c07f-be968b2b38d9"
      },
      "execution_count": 88,
      "outputs": [
        {
          "output_type": "stream",
          "name": "stdout",
          "text": [
            "                                              comment_text  target\n",
            "658847   Here's the latest numbers from the 2016 Presid...       0\n",
            "476462   I had a conversation with Wally in 1967 about ...       0\n",
            "888134   If you are arguing for Parliamentary Privilege...       0\n",
            "1225856  Keeping cargo in the line up is kind of like h...       0\n",
            "151020              \"Drop the check and back away slowly!\"       0\n",
            "...                                                    ...     ...\n",
            "500435   I'd love to see Bautista have a great year, if...       0\n",
            "276388                       It ain’t over till it’s over.       0\n",
            "1237137  More like not incur more debt with little in t...       0\n",
            "1293274  That is all that you could find? An obtuse fal...       0\n",
            "1724683  I wouldn't be surprised if there are firefight...       0\n",
            "\n",
            "[281820 rows x 2 columns]\n"
          ]
        }
      ]
    },
    {
      "cell_type": "code",
      "source": [
        "train_count"
      ],
      "metadata": {
        "colab": {
          "base_uri": "https://localhost:8080/"
        },
        "id": "JGAisvDABRJc",
        "outputId": "41499c7a-e723-4e68-f180-c43cc0c1ef22"
      },
      "execution_count": 89,
      "outputs": [
        {
          "output_type": "execute_result",
          "data": {
            "text/plain": [
              "target\n",
              "0         1011865\n",
              "1          115413\n",
              "dtype: int64"
            ]
          },
          "metadata": {},
          "execution_count": 89
        }
      ]
    },
    {
      "cell_type": "code",
      "source": [
        "test_count"
      ],
      "metadata": {
        "colab": {
          "base_uri": "https://localhost:8080/"
        },
        "id": "DIeHsU2Ci7mH",
        "outputId": "3ec752f9-3708-4718-d10c-076ca00c4060"
      },
      "execution_count": 90,
      "outputs": [
        {
          "output_type": "execute_result",
          "data": {
            "text/plain": [
              "target\n",
              "0         252899\n",
              "1          28921\n",
              "dtype: int64"
            ]
          },
          "metadata": {},
          "execution_count": 90
        }
      ]
    },
    {
      "cell_type": "code",
      "source": [
        "balanced_train_df = train_df.groupby(\"target\").sample(n=train_count[1], random_state=12) # take even split"
      ],
      "metadata": {
        "id": "ZzQfaeux4t1f"
      },
      "execution_count": 91,
      "outputs": []
    },
    {
      "cell_type": "code",
      "source": [
        "balanced_train_df = balanced_train_df.sample(frac=1) # shuffle"
      ],
      "metadata": {
        "id": "RSGX7E_6CAtg"
      },
      "execution_count": 92,
      "outputs": []
    },
    {
      "cell_type": "code",
      "source": [
        "balanced_train_df[\"target\"].value_counts() # count number in training split"
      ],
      "metadata": {
        "colab": {
          "base_uri": "https://localhost:8080/"
        },
        "id": "C5z3jL8rBbt0",
        "outputId": "39e01585-f21b-4b42-c19a-a4993b03a8f8"
      },
      "execution_count": 93,
      "outputs": [
        {
          "output_type": "execute_result",
          "data": {
            "text/plain": [
              "1    115413\n",
              "0    115413\n",
              "Name: target, dtype: int64"
            ]
          },
          "metadata": {},
          "execution_count": 93
        }
      ]
    },
    {
      "cell_type": "code",
      "source": [
        "print(balanced_train_df.head())"
      ],
      "metadata": {
        "colab": {
          "base_uri": "https://localhost:8080/"
        },
        "id": "rJw3kVG7c56q",
        "outputId": "4379494b-7ccb-46f3-dd79-8e0efc916f10"
      },
      "execution_count": 94,
      "outputs": [
        {
          "output_type": "stream",
          "name": "stdout",
          "text": [
            "                                              comment_text  target\n",
            "1629799  America has no future with h. clinton around. ...       1\n",
            "284550   I was just telling a client about the reason w...       0\n",
            "1362542         Coming from a war criminal it means a lot.       0\n",
            "483833   So  Anka's explanation is 'I need the money'. ...       0\n",
            "79591    Well, Money talks. On the other Hand is there ...       0\n"
          ]
        }
      ]
    },
    {
      "cell_type": "code",
      "source": [
        "print(test_df.head())"
      ],
      "metadata": {
        "colab": {
          "base_uri": "https://localhost:8080/"
        },
        "id": "KbPQyMRhc8rF",
        "outputId": "57de22e8-fce5-4bf6-83de-f8d4b2bff467"
      },
      "execution_count": 95,
      "outputs": [
        {
          "output_type": "stream",
          "name": "stdout",
          "text": [
            "                                              comment_text  target\n",
            "658847   Here's the latest numbers from the 2016 Presid...       0\n",
            "476462   I had a conversation with Wally in 1967 about ...       0\n",
            "888134   If you are arguing for Parliamentary Privilege...       0\n",
            "1225856  Keeping cargo in the line up is kind of like h...       0\n",
            "151020              \"Drop the check and back away slowly!\"       0\n"
          ]
        }
      ]
    },
    {
      "cell_type": "code",
      "source": [
        "balanced_train_df.to_csv(\"processed_train.csv\",index=False)  "
      ],
      "metadata": {
        "id": "WhKdf1HjBs0L"
      },
      "execution_count": 96,
      "outputs": []
    },
    {
      "cell_type": "code",
      "source": [
        "test_df.to_csv(\"processed_test.csv\",index=False)  "
      ],
      "metadata": {
        "id": "KLlmFTHXC781"
      },
      "execution_count": 97,
      "outputs": []
    }
  ]
}